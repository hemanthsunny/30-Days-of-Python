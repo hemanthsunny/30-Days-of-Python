{
  "nbformat": 4,
  "nbformat_minor": 0,
  "metadata": {
    "colab": {
      "name": "A complete example",
      "provenance": [],
      "authorship_tag": "ABX9TyMMpsg3OD2/A2wNDiCCUfZ6",
      "include_colab_link": true
    },
    "kernelspec": {
      "name": "python3",
      "display_name": "Python 3"
    }
  },
  "cells": [
    {
      "cell_type": "markdown",
      "metadata": {
        "id": "view-in-github",
        "colab_type": "text"
      },
      "source": [
        "<a href=\"https://colab.research.google.com/github/hemanthsunny/30-Days-of-Python/blob/master/Examples/A_complete_example.ipynb\" target=\"_parent\"><img src=\"https://colab.research.google.com/assets/colab-badge.svg\" alt=\"Open In Colab\"/></a>"
      ]
    },
    {
      "cell_type": "code",
      "metadata": {
        "id": "y84UsBqI_lmG",
        "colab_type": "code",
        "colab": {}
      },
      "source": [
        ""
      ],
      "execution_count": 0,
      "outputs": []
    },
    {
      "cell_type": "markdown",
      "metadata": {
        "id": "WBYN64_D_plZ",
        "colab_type": "text"
      },
      "source": [
        "*Reference*\n",
        "1. Simple NN vs Complete NN (from scratch)\n",
        "https://towardsdatascience.com/neural-networks-from-scratch-easy-vs-hard-b26ddc2e89c7 <br>\n",
        "   a. np.zeroes - https://docs.scipy.org/doc/numpy/reference/generated/numpy.zeros.html <br>\n",
        "   b. np.random.randn - https://docs.scipy.org/doc/numpy-1.15.1/reference/generated/numpy.random.randn.html <br>\n",
        "   c. np.argmax - https://docs.scipy.org/doc/numpy/reference/generated/numpy.argmax.html <br>\n",
        "   d. slope vs gradient - https://math.stackexchange.com/questions/190756/difference-between-slope-and-gradient/190760 <br>\n",
        "   e. Complete list of algorithms - https://ml-cheatsheet.readthedocs.io/en/latest/loss_functions.html <br>\n",
        "   f. zip() in python - https://www.geeksforgeeks.org/zip-in-python/"
      ]
    },
    {
      "cell_type": "code",
      "metadata": {
        "id": "UI3hOT9sAmYT",
        "colab_type": "code",
        "colab": {}
      },
      "source": [
        ""
      ],
      "execution_count": 0,
      "outputs": []
    }
  ]
}